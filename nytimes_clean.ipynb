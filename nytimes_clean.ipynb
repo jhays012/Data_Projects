{
 "cells": [
  {
   "cell_type": "code",
   "execution_count": 16,
   "id": "154dbac9-4b0e-49ef-9efa-d3e0a5b06856",
   "metadata": {
    "tags": []
   },
   "outputs": [
    {
     "name": "stdout",
     "output_type": "stream",
     "text": [
      "<class 'pandas.core.frame.DataFrame'>\n",
      "RangeIndex: 61942 entries, 0 to 61941\n",
      "Data columns (total 6 columns):\n",
      " #   Column  Non-Null Count  Dtype \n",
      "---  ------  --------------  ----- \n",
      " 0   id      61942 non-null  int64 \n",
      " 1   date    61942 non-null  object\n",
      " 2   state   61942 non-null  object\n",
      " 3   fips    61942 non-null  int64 \n",
      " 4   cases   61942 non-null  int64 \n",
      " 5   deaths  61942 non-null  int64 \n",
      "dtypes: int64(4), object(2)\n",
      "memory usage: 2.8+ MB\n",
      "None\n"
     ]
    }
   ],
   "source": [
    "#import libraries\n",
    "import pandas as pd\n",
    "import os\n",
    "\n",
    "#load data into dataframe\n",
    "#source: New York Times U.S. State-Level Covid-19 Data\n",
    "url = \"https://raw.githubusercontent.com/nytimes/covid-19-data/master/us-states.csv\"\n",
    "df = pd.read_csv(url)\n",
    "\n",
    "#add ID column\n",
    "df.insert(loc=0, column='id', value=[i for i in range(len(df))])\n",
    "print(df.info())\n",
    "\n",
    "#write to csv file\n",
    "if os.path.exists(\"nytimes_clean.csv\"):\n",
    "    os.remove(\"nytimes_clean.csv\")\n",
    "df.to_csv(\"nytimes_clean.csv\", index=False)"
   ]
  },
  {
   "cell_type": "code",
   "execution_count": null,
   "id": "7de78976-0f4c-4138-8db1-479d47ac94d6",
   "metadata": {},
   "outputs": [],
   "source": []
  }
 ],
 "metadata": {
  "kernelspec": {
   "display_name": "Python 3 (ipykernel)",
   "language": "python",
   "name": "python3"
  },
  "language_info": {
   "codemirror_mode": {
    "name": "ipython",
    "version": 3
   },
   "file_extension": ".py",
   "mimetype": "text/x-python",
   "name": "python",
   "nbconvert_exporter": "python",
   "pygments_lexer": "ipython3",
   "version": "3.11.5"
  }
 },
 "nbformat": 4,
 "nbformat_minor": 5
}
